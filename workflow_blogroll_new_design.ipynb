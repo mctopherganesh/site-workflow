{
 "cells": [
  {
   "cell_type": "markdown",
   "metadata": {},
   "source": [
    "# Python HTML ....engine? Motor? Reactor? Thingy that does stuff when you don't want to do the stuff? \n",
    "\n",
    "I originally wrote something here that was informative and professional but that's so boring. I must have written right after I wrote all this dang code. \n",
    "\n",
    "brain dead. \n",
    "\n",
    "alright so I'm too lazy to copy paste all my code over to a new design for my website and I'm so bad at front end design that everything is still hard coded into the og design. \n",
    "\n",
    "and even lazier still, I'm trying to figure out how to not only make it easy to update the future page with python but actually build the entire new thing by scraping my old page and dropping all the information into the new design. \n",
    "\n",
    "isn't that the laziest thing you've ever heard?\n",
    "\n",
    "Actually I have this new habit of approaching every problem I have with python first, and try to figure it out \"programmatically.\" This sounds like a smart thing to do but it's honestly because I'm lazy. I hate doing the same inefficient thing twice.\n",
    "\n",
    "Anyway, what you're seeing below is the result of some messy experimentation. \n",
    "\n",
    "If this turns into a blog post find it [here](https://mctopherganesh.com/blog.html)"
   ]
  },
  {
   "cell_type": "code",
   "execution_count": null,
   "metadata": {},
   "outputs": [],
   "source": [
    "# this first to initialize html file\n",
    "\n",
    "f = open('test_blogroll_set.html','wb')\n",
    "\n",
    "header = b'''\n",
    "\n",
    "<!DOCTYPE html>\n",
    "\n",
    "<html>\n",
    "\t<meta name=\"viewport\" content=\"width=device-width, initial-scale=1\">\n",
    "\t<head>\n",
    "\t<title>Welcome Muggles</title>\n",
    "\n",
    "\t<link rel=\"stylesheet\" type=\"text/css\" href=\"styles.css\">\n",
    "\n",
    "\t<link href=\"https://fonts.googleapis.com/css?family=Bahianita|Cuprum|Fjalla+One|Khand|Russo+One&display=swap\" rel=\"stylesheet\">\n",
    "\t<link rel=\"stylesheet\" href=\"https://stackpath.bootstrapcdn.com/bootstrap/4.3.1/css/bootstrap.min.css\" integrity=\"sha384-ggOyR0iXCbMQv3Xipma34MD+dH/1fQ784/j6cY/iJTQUOhcWr7x9JvoRxT2MZw1T\" crossorigin=\"anonymous\">\n",
    "\n",
    "\t<script src=\"https://code.jquery.com/jquery-3.3.1.slim.min.js\" integrity=\"sha384-q8i/X+965DzO0rT7abK41JStQIAqVgRVzpbzo5smXKp4YfRvH+8abtTE1Pi6jizo\" crossorigin=\"anonymous\"></script>\n",
    "\t<script src=\"https://cdnjs.cloudflare.com/ajax/libs/popper.js/1.14.7/umd/popper.min.js\" integrity=\"sha384-UO2eT0CpHqdSJQ6hJty5KVphtPhzWj9WO1clHTMGa3JDZwrnQq4sF86dIHNDz0W1\" crossorigin=\"anonymous\"></script>\n",
    "\t<script src=\"https://stackpath.bootstrapcdn.com/bootstrap/4.3.1/js/bootstrap.min.js\" integrity=\"sha384-JjSmVgyd0p3pXB1rRibZUAYoIIy6OrQ6VrjIEaFf/nJGzIxFDsf4x0xIM+B07jRM\" crossorigin=\"anonymous\"></script>\n",
    "\n",
    "\n",
    "<style>\n",
    "  .card {\n",
    "    margin: 0px;\n",
    "  }\n",
    "\n",
    "  .card a {\n",
    "    text-decoration:;\n",
    "    color: rgb(202,212,191);\n",
    "  }\n",
    "</style>\n",
    "\n",
    "\n",
    "\n",
    "</head>\n",
    "\n",
    "<body class=\"content\">\n",
    "\t<nav class=\"navbar navbar-expand-lg navbar-dark bg-dark fixed-top\">\n",
    "\t\t<button class=\"navbar-toggler\" type=\"button\" data-toggle=\"collapse\" data-target=\"#navbarSupportedContent\" aria-controls=\"navbarSupportedContent\" aria-expanded=\"false\" aria-label=\"Toggle navigation\">\n",
    "\t\t\t<span class=\"navbar-toggler-icon\"></span>\n",
    "\t\t</button>\n",
    "\t\t<div class=\"collapse navbar-collapse\" id=\"navbarSupportedContent\">\n",
    "\t\t\t<ul class=\"navbar-nav mr-auto\" style=\"list-style: none;\">\n",
    "\t\t\t\t<li class=\"nav-item\">\n",
    "\t\t\t\t\t<a class=\"nav-link\" href=\"index.html\">Home </a>\n",
    "\t\t\t\t<li class=\"nav-item\">\n",
    "\t\t\t\t\t<a class=\"nav-link\" href=\"https://mctopherganesh.com/index.html#contact\"> Contact </a>\n",
    "\t\t\t\t</li>\n",
    "\t\t\t\t<li class=\"nav-item\">\n",
    "\t\t\t\t\t<a class=\"nav-link\" href=\"#blog\"> Blog </a>\n",
    "\t\t\t\t</li>\n",
    "\t\t\t</ul>\n",
    "\t\t</div>\n",
    "\t</nav>\n",
    "\t<br>\n",
    "\t<br>\n",
    "\t<br>\n",
    "\n",
    "  <div class=\"card-columns\">\n",
    "  <div class=\"card\">\n",
    "    <a href=\"#\">\n",
    "    <div class=\"card-body\">\n",
    "      <h5 class=\"card-title\">first Card title</h5>\n",
    "      <p class=\"card-text\">This card has supporting text below as a natural lead-in to additional content.</p>\n",
    "      <p class=\"card-text\"><small class=\"text-muted\">Last updated 3 mins ago</small></p>\n",
    "    </div>\n",
    "    </a>\n",
    "  </div>\n",
    "  <!--insert new card here-->\n",
    "\n",
    "'''\n",
    "\n",
    "f.write(header)\n",
    "f.close()"
   ]
  },
  {
   "cell_type": "markdown",
   "metadata": {},
   "source": [
    "This was all a test so I had to make my own html file to test from to make sure it was all going to work well."
   ]
  },
  {
   "cell_type": "code",
   "execution_count": null,
   "metadata": {},
   "outputs": [],
   "source": [
    "# this second, to add some random blocks of code to html file\n",
    "\n",
    "blog_post_card = \"\"\"\n",
    "<div class=\"card\">\n",
    "    <a href=\"#\">\n",
    "    <div class=\"card-body\">\n",
    "      <h5 class=\"card-title\">another additional Card title</h5>\n",
    "      <p class=\"card-text\">This card has supporting text below as a natural lead-in to additional content.</p>\n",
    "      <p class=\"card-text\"><small class=\"text-muted\">Last updated 3 mins ago</small></p>\n",
    "    </div>\n",
    "    </a>\n",
    "  </div>\n",
    "\"\"\"\n",
    "\n",
    "f = open('test_blogroll_set.html','a')\n",
    "f.write(blog_post_card)\n",
    "f.close()"
   ]
  },
  {
   "cell_type": "markdown",
   "metadata": {},
   "source": [
    "This is what it looks like before I add in the other little card with python\n",
    "\n",
    "![screencap](./Selection_852.png)"
   ]
  },
  {
   "cell_type": "code",
   "execution_count": null,
   "metadata": {},
   "outputs": [],
   "source": [
    "from bs4 import BeautifulSoup as bs # tehehe"
   ]
  },
  {
   "cell_type": "code",
   "execution_count": 87,
   "metadata": {},
   "outputs": [],
   "source": [
    "# this third to initialize html to beautifulsoup object\n",
    "\n",
    "bs_brpage = open('./test_blogroll_set.html')\n",
    "blogroll_page = bs(bs_brpage,'lxml')"
   ]
  },
  {
   "cell_type": "code",
   "execution_count": 88,
   "metadata": {},
   "outputs": [],
   "source": [
    "# this fourth to find location of the first card\n",
    "\n",
    "new_card_insert_location = blogroll_page.find('div', {'class':'card'})"
   ]
  },
  {
   "cell_type": "code",
   "execution_count": 89,
   "metadata": {},
   "outputs": [],
   "source": [
    "# this fifth to initialize a new card, then strip the html of added html and body tags\n",
    "# that bs adds to it apparently, and inserts the tag at insertion location\n",
    "\n",
    "blog_post_card_test = \"\"\"\n",
    "<div class=\"card\">\n",
    "    <a href=\"#\">\n",
    "    <div class=\"card-body\">\n",
    "      <h5 class=\"card-title\">inserted Card title</h5>\n",
    "      <p class=\"card-text\">This card has supporting text below as a natural lead-in to additional content.</p>\n",
    "      <p class=\"card-text\"><small class=\"text-muted\">Last updated 3 mins ago</small></p>\n",
    "    </div>\n",
    "    </a>\n",
    "  </div>\n",
    "\"\"\"\n",
    "\n",
    "new_card_html = bs(blog_post_card_test)\n",
    "new_card_insert_location.insert_after(new_card_html.div)"
   ]
  },
  {
   "cell_type": "code",
   "execution_count": 90,
   "metadata": {},
   "outputs": [],
   "source": [
    "with open(\"test_blogroll_set.html\",'w') as file:\n",
    "    file.write(str(blogroll_page))"
   ]
  },
  {
   "cell_type": "markdown",
   "metadata": {},
   "source": [
    "![secondscreencap](./Selection_858.png)"
   ]
  },
  {
   "cell_type": "markdown",
   "metadata": {},
   "source": [
    "The most right card is being cut off by some design stuff I don't have set up yet but it works!\n",
    "\n",
    "Time to make it function. Which I'll eventually disassemble later. It'll be a good exercise though.\n",
    "\n",
    "I'm just now realizing too that I should have figured out how to put the card at the top of the cards..not in the middle. WTC (what the cuss) was I thinking.\n",
    "\n",
    "I'm just going to write it and see what happens and to be honest, you (the reader) won't see the experimentation part anyway. "
   ]
  },
  {
   "cell_type": "code",
   "execution_count": null,
   "metadata": {},
   "outputs": [],
   "source": [
    "def blog_data_into_card(title,blog_type,date,nutshell):\n",
    "    \"\"\"\n",
    "    creates blog data to insert onto blog roll page and to be processed\n",
    "    by new post function\n",
    "    \"\"\"\n",
    "    \n",
    "    new_card = \"\"\"\n",
    "    <div class=\"card\">\n",
    "        <a href=\"#\">\n",
    "        <div class=\"card-body\">\n",
    "          <h5 class=\"card-title\">inserted Card title</h5>\n",
    "          <p class=\"card-text\">\n",
    "          This card has supporting text below as a natural lead-in to additional content.\n",
    "          </p>\n",
    "          <p class=\"card-text\"><small class=\"text-muted\">\n",
    "          Last updated 3 mins ago\n",
    "          </small></p>\n",
    "        </div>\n",
    "        </a>\n",
    "    </div>\n",
    "    \"\"\"\n",
    "    \n",
    "    \n",
    "    \n",
    "    pass\n",
    "\n",
    "\n",
    "def new_post_card(blog_data):\n",
    "    \n",
    "    '''\n",
    "    does things i'm too lazy to do,\n",
    "    needs beautifulsoup\n",
    "    '''\n",
    "    from bs4 import BeautifulSoup as bs\n",
    "    \n",
    "    blogroll_html_file = open('./blog.html')\n",
    "    blogroll_html_bs_obj = bs(blogroll_html_file, 'lxml')\n",
    "    new_blog_insert_location = blogroll_html_bs_obj.find('div', {'class':'card-columns'})\n",
    "    new_blog_insert_location.insert_after(blog_data) \n",
    "    # had it as blog_data.div originall\n",
    "    # but I'll have to see what happens, \n",
    "    # because bs throws on extra tags after intializing\n",
    "    # something as a bs object BACK to html\n",
    "    \n",
    "    "
   ]
  },
  {
   "cell_type": "code",
   "execution_count": null,
   "metadata": {},
   "outputs": [],
   "source": []
  },
  {
   "cell_type": "code",
   "execution_count": null,
   "metadata": {},
   "outputs": [],
   "source": []
  },
  {
   "cell_type": "code",
   "execution_count": null,
   "metadata": {},
   "outputs": [],
   "source": []
  },
  {
   "cell_type": "code",
   "execution_count": null,
   "metadata": {},
   "outputs": [],
   "source": []
  },
  {
   "cell_type": "code",
   "execution_count": null,
   "metadata": {},
   "outputs": [],
   "source": []
  },
  {
   "cell_type": "code",
   "execution_count": null,
   "metadata": {},
   "outputs": [],
   "source": []
  },
  {
   "cell_type": "code",
   "execution_count": null,
   "metadata": {},
   "outputs": [],
   "source": []
  },
  {
   "cell_type": "code",
   "execution_count": null,
   "metadata": {},
   "outputs": [],
   "source": []
  },
  {
   "cell_type": "code",
   "execution_count": null,
   "metadata": {},
   "outputs": [],
   "source": []
  },
  {
   "cell_type": "code",
   "execution_count": null,
   "metadata": {},
   "outputs": [],
   "source": []
  },
  {
   "cell_type": "code",
   "execution_count": null,
   "metadata": {},
   "outputs": [],
   "source": []
  },
  {
   "cell_type": "code",
   "execution_count": null,
   "metadata": {},
   "outputs": [],
   "source": []
  },
  {
   "cell_type": "code",
   "execution_count": null,
   "metadata": {},
   "outputs": [],
   "source": []
  },
  {
   "cell_type": "code",
   "execution_count": null,
   "metadata": {},
   "outputs": [],
   "source": []
  },
  {
   "cell_type": "code",
   "execution_count": null,
   "metadata": {},
   "outputs": [],
   "source": []
  },
  {
   "cell_type": "code",
   "execution_count": null,
   "metadata": {},
   "outputs": [],
   "source": []
  },
  {
   "cell_type": "code",
   "execution_count": null,
   "metadata": {},
   "outputs": [],
   "source": []
  },
  {
   "cell_type": "code",
   "execution_count": null,
   "metadata": {},
   "outputs": [],
   "source": []
  },
  {
   "cell_type": "code",
   "execution_count": null,
   "metadata": {},
   "outputs": [],
   "source": []
  },
  {
   "cell_type": "code",
   "execution_count": null,
   "metadata": {},
   "outputs": [],
   "source": []
  },
  {
   "cell_type": "code",
   "execution_count": null,
   "metadata": {},
   "outputs": [],
   "source": []
  },
  {
   "cell_type": "code",
   "execution_count": null,
   "metadata": {},
   "outputs": [],
   "source": []
  },
  {
   "cell_type": "code",
   "execution_count": null,
   "metadata": {},
   "outputs": [],
   "source": []
  },
  {
   "cell_type": "code",
   "execution_count": null,
   "metadata": {},
   "outputs": [],
   "source": []
  },
  {
   "cell_type": "code",
   "execution_count": null,
   "metadata": {},
   "outputs": [],
   "source": []
  }
 ],
 "metadata": {
  "kernelspec": {
   "display_name": "Python 3",
   "language": "python",
   "name": "python3"
  },
  "language_info": {
   "codemirror_mode": {
    "name": "ipython",
    "version": 3
   },
   "file_extension": ".py",
   "mimetype": "text/x-python",
   "name": "python",
   "nbconvert_exporter": "python",
   "pygments_lexer": "ipython3",
   "version": "3.7.3"
  }
 },
 "nbformat": 4,
 "nbformat_minor": 2
}
